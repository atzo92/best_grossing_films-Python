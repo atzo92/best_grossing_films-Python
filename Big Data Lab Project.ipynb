{
 "cells": [
  {
   "cell_type": "markdown",
   "metadata": {},
   "source": [
    "# Big Data Lab Project\n",
    "**Andrea Atzori**"
   ]
  },
  {
   "cell_type": "markdown",
   "metadata": {},
   "source": [
    "   "
   ]
  },
  {
   "cell_type": "markdown",
   "metadata": {},
   "source": [
    "# Web Scraping\n",
    "Web scraping is useful to extract information from a website and convert it into tables or graphs. In the following lines, an analysis of a web page has been performed, that lists the highest grossing films of all history. The analysis has been done with the help of the library *beautiful soup* that parses the html into a readable format for Python. \n",
    "The format of the webpages is HTML but nowadays many companies are using the format JSON which is easier to understand as there is no need for a conversion, since it returns a structure which is compatible with the *dictionaries* in Python."
   ]
  },
  {
   "cell_type": "markdown",
   "metadata": {},
   "source": [
    "  "
   ]
  },
  {
   "cell_type": "markdown",
   "metadata": {},
   "source": [
    "The first step is to import get from the requests library to parse the url. What is being printed by the cell below is the response text to the request of the HTML file."
   ]
  },
  {
   "cell_type": "code",
   "execution_count": null,
   "metadata": {},
   "outputs": [],
   "source": [
    "from requests import get\n",
    "\n",
    "url = 'https://en.wikipedia.org/wiki/List_of_highest-grossing_films'\n",
    "\n",
    "response = get(url)\n",
    "print(response.text)"
   ]
  },
  {
   "cell_type": "markdown",
   "metadata": {},
   "source": [
    "Below the *Beautiful Soup* has been called to parse the HTML."
   ]
  },
  {
   "cell_type": "code",
   "execution_count": 3,
   "metadata": {},
   "outputs": [
    {
     "data": {
      "text/plain": [
       "bs4.BeautifulSoup"
      ]
     },
     "execution_count": 3,
     "metadata": {},
     "output_type": "execute_result"
    }
   ],
   "source": [
    "from bs4 import BeautifulSoup\n",
    "html_soup = BeautifulSoup(response.text, 'html.parser')\n",
    "type(html_soup)"
   ]
  },
  {
   "cell_type": "markdown",
   "metadata": {},
   "source": [
    "The main purpose of the first part of the analysis is to extract a table from the HTML. The first thing to do is to inspect the webpage from any browser and find the strings to extract the table (*wikitable sortable plainrowheaders*). The function returns the table while the findall function has been used to find all the anchorpoints that contain the titles of the movies in the table."
   ]
  },
  {
   "cell_type": "code",
   "execution_count": 4,
   "metadata": {},
   "outputs": [],
   "source": [
    "table = html_soup.find('table', class_ = 'wikitable sortable plainrowheaders')\n",
    "anchor_title = table.findAll('a')  # extract titles from anchor points"
   ]
  },
  {
   "cell_type": "markdown",
   "metadata": {},
   "source": [
    "Next step is to run a loop that returns a list of all the Film titles in the Wikipedia table."
   ]
  },
  {
   "cell_type": "code",
   "execution_count": 7,
   "metadata": {},
   "outputs": [
    {
     "name": "stdout",
     "output_type": "stream",
     "text": [
      "['Avatar (2009 film)', 'Titanic (1997 film)', 'Star Wars: The Force Awakens', 'Avengers: Infinity War', 'Jurassic World', 'The Avengers (2012 film)', 'Furious 7', 'Avengers: Age of Ultron', 'Black Panther (film)', 'Harry Potter and the Deathly Hallows – Part 2', 'Star Wars: The Last Jedi', 'Jurassic World: Fallen Kingdom', 'Frozen (2013 film)', 'Beauty and the Beast (2017 film)', 'The Fate of the Furious', 'Iron Man 3', 'Incredibles 2', 'Minions (film)', 'Captain America: Civil War', 'Transformers: Dark of the Moon', 'The Lord of the Rings: The Return of the King', 'Skyfall', 'Transformers: Age of Extinction', 'The Dark Knight Rises', 'Toy Story 3', \"Pirates of the Caribbean: Dead Man's Chest\", 'Rogue One', 'Pirates of the Caribbean: On Stranger Tides', 'Despicable Me 3', 'Jurassic Park (film)', 'Finding Dory', 'Star Wars: Episode I – The Phantom Menace', 'Alice in Wonderland (2010 film)', 'Zootopia', 'The Hobbit: An Unexpected Journey', 'The Dark Knight (film)', \"Harry Potter and the Philosopher's Stone (film)\", 'Despicable Me 2', 'The Lion King', 'The Jungle Book (2016 film)', \"Pirates of the Caribbean: At World's End\", 'Jumanji: Welcome to the Jungle', 'Harry Potter and the Deathly Hallows – Part 1', 'The Hobbit: The Desolation of Smaug', 'The Hobbit: The Battle of the Five Armies', 'Finding Nemo', 'Harry Potter and the Order of the Phoenix (film)', 'Harry Potter and the Half-Blood Prince (film)', 'The Lord of the Rings: The Two Towers', 'Shrek 2']\n"
     ]
    }
   ],
   "source": [
    "titles_tmp = list()                          # create a list\n",
    "titles = list()\n",
    "def get_titles(x):\n",
    "    for items in anchor_title:                   # loops all the items in the anchor title that correspond to the title\n",
    "        titles_tmp.append(items.get('title'))\n",
    "    for words in titles_tmp:                     # loops the temporary list that contains empty parts and eliminates them, leaving us with the plain titles.\n",
    "        if words == None: continue\n",
    "        else:\n",
    "            titles.append(words)\n",
    "    print(titles)\n",
    "get_titles(anchor_title) "
   ]
  },
  {
   "cell_type": "markdown",
   "metadata": {},
   "source": [
    "**Regular Expressions**\n",
    "\n",
    "The next step is to pull out the other data in the wikipedia table: the results in the box office and the years the movies have been released."
   ]
  },
  {
   "cell_type": "markdown",
   "metadata": {},
   "source": [
    "Regular Expressions have been used to pull out the box office results from the HTML. These are powerful python's instruments that allows to grab a text using particular symbols. The, the file has been cleaned and the numbers appendend in a python list."
   ]
  },
  {
   "cell_type": "code",
   "execution_count": 8,
   "metadata": {},
   "outputs": [
    {
     "name": "stdout",
     "output_type": "stream",
     "text": [
      "50\n",
      "['$2,787,965,087', '$2,187,463,944', '$2,068,223,624', '$2,046,239,637', '$1,671,713,208', '$1,518,812,988', '$1,516,045,911', '$1,405,403,694', '$1,346,844,034', '$1,341,511,219', '$1,332,539,889', '$1,300,569,140', '$1,290,000,000', '$1,263,521,126', '$1,238,764,765', '$1,214,811,252', '$1,164,826,913', '$1,159,398,397', '$1,153,304,495', '$1,123,794,079', '$1,120,237,002', '$1,108,561,013', '$1,104,054,072', '$1,084,939,099', '$1,066,969,703', '$1,066,179,725', '$1,056,057,273', '$1,045,713,802', '$1,034,799,409', '$1,029,939,903', '$1,028,570,889', '$1,027,044,677', '$1,025,467,110', '$1,023,784,195', '$1,021,103,568', '$1,004,558,444', '$974,755,371', '$970,761,885', '$968,483,777', '$966,550,600', '$963,420,425', '$962,261,836', '$960,283,305', '$958,366,855', '$956,019,788', '$940,335,536', '$939,885,929', '$934,416,487', '$926,349,708', '$919,838,758']\n"
     ]
    }
   ],
   "source": [
    "import re                                           # import the library for regular expressions\n",
    "content = table.findAll('td')                       # find the content of the table, which is included inside 'td' in an XTML format\n",
    "#print(content)\n",
    "box = list()                                        # create the empty list for the box office results\n",
    "for g in content:                                   # loop every word in the content\n",
    "    g = re.findall('\\$.*',str(g))                   # pull out the strings we need through the use of regular expression (find the dollar sign and extract everything from it)\n",
    "    #print(g)                                       # print the results      \n",
    "    for item in g:                                  # loop the items just pulled to further clean the data\n",
    "        if len(item) < 1: continue                  # eliminate empty strings\n",
    "        box.append(item)                            # append them to the list created in the beginning\n",
    "#print(box)\n",
    "x = box[14]                                         # The regular expressions extracted a number followed by some symbols in HTML format at index 14 that must be eliminated\n",
    "x = x.split('<')                                    # split the number and the expressions that follow the term '<'\n",
    "x = x[0]                                            # take the first index of the string\n",
    "#print(x)                    \n",
    "box[14] = x                                         # substitute the cleaned number with \n",
    "print(len(box))                                     # check if the length has not changed \n",
    "#print(box[15])\n",
    "print(box)                                          # print the final list"
   ]
  },
  {
   "cell_type": "code",
   "execution_count": 9,
   "metadata": {},
   "outputs": [
    {
     "name": "stdout",
     "output_type": "stream",
     "text": [
      "50\n",
      "['2009', '1997', '2015', '2018', '2015', '2012', '2015', '2015', '2018', '2011', '2017', '2018', '2013', '2017', '2017', '2013', '2018', '2015', '2016', '2011', '2003', '2012', '2014', '2012', '2010', '2006', '2016', '2011', '2017', '1993', '2016', '1999', '2010', '2016', '2012', '2008', '2001', '2013', '1994', '2016', '2007', '2017', '2010', '2013', '2014', '2003', '2007', '2009', '2002', '2004']\n"
     ]
    }
   ],
   "source": [
    "year = list()\n",
    "for y in content:                                        \n",
    "    years = re.findall('.center;\">([0-9]+)',str(y))  # extract the years using once again regular expressions, the expression that will be pulled out is only the one between parenthesis\n",
    "    for y in years:\n",
    "        year.append(y)                               # loop again and append the items in years to the final list\n",
    "print(len(year))\n",
    "print(year)\n"
   ]
  },
  {
   "cell_type": "markdown",
   "metadata": {},
   "source": [
    "# Data Frames\n",
    "The next step is to include all the newly created list in a well formatted dataframe. "
   ]
  },
  {
   "cell_type": "code",
   "execution_count": 10,
   "metadata": {},
   "outputs": [
    {
     "data": {
      "text/html": [
       "<div>\n",
       "<style scoped>\n",
       "    .dataframe tbody tr th:only-of-type {\n",
       "        vertical-align: middle;\n",
       "    }\n",
       "\n",
       "    .dataframe tbody tr th {\n",
       "        vertical-align: top;\n",
       "    }\n",
       "\n",
       "    .dataframe thead th {\n",
       "        text-align: right;\n",
       "    }\n",
       "</style>\n",
       "<table border=\"1\" class=\"dataframe\">\n",
       "  <thead>\n",
       "    <tr style=\"text-align: right;\">\n",
       "      <th>Rank</th>\n",
       "      <th>Titles</th>\n",
       "      <th>Grossing</th>\n",
       "      <th>Year</th>\n",
       "    </tr>\n",
       "  </thead>\n",
       "  <tbody>\n",
       "    <tr>\n",
       "      <th>1</th>\n",
       "      <td>Avatar (2009 film)</td>\n",
       "      <td>$2,787,965,087</td>\n",
       "      <td>2009</td>\n",
       "    </tr>\n",
       "    <tr>\n",
       "      <th>2</th>\n",
       "      <td>Titanic (1997 film)</td>\n",
       "      <td>$2,187,463,944</td>\n",
       "      <td>1997</td>\n",
       "    </tr>\n",
       "    <tr>\n",
       "      <th>3</th>\n",
       "      <td>Star Wars: The Force Awakens</td>\n",
       "      <td>$2,068,223,624</td>\n",
       "      <td>2015</td>\n",
       "    </tr>\n",
       "    <tr>\n",
       "      <th>4</th>\n",
       "      <td>Avengers: Infinity War</td>\n",
       "      <td>$2,046,239,637</td>\n",
       "      <td>2018</td>\n",
       "    </tr>\n",
       "    <tr>\n",
       "      <th>5</th>\n",
       "      <td>Jurassic World</td>\n",
       "      <td>$1,671,713,208</td>\n",
       "      <td>2015</td>\n",
       "    </tr>\n",
       "    <tr>\n",
       "      <th>6</th>\n",
       "      <td>The Avengers (2012 film)</td>\n",
       "      <td>$1,518,812,988</td>\n",
       "      <td>2012</td>\n",
       "    </tr>\n",
       "    <tr>\n",
       "      <th>7</th>\n",
       "      <td>Furious 7</td>\n",
       "      <td>$1,516,045,911</td>\n",
       "      <td>2015</td>\n",
       "    </tr>\n",
       "    <tr>\n",
       "      <th>8</th>\n",
       "      <td>Avengers: Age of Ultron</td>\n",
       "      <td>$1,405,403,694</td>\n",
       "      <td>2015</td>\n",
       "    </tr>\n",
       "    <tr>\n",
       "      <th>9</th>\n",
       "      <td>Black Panther (film)</td>\n",
       "      <td>$1,346,844,034</td>\n",
       "      <td>2018</td>\n",
       "    </tr>\n",
       "    <tr>\n",
       "      <th>10</th>\n",
       "      <td>Harry Potter and the Deathly Hallows – Part 2</td>\n",
       "      <td>$1,341,511,219</td>\n",
       "      <td>2011</td>\n",
       "    </tr>\n",
       "    <tr>\n",
       "      <th>11</th>\n",
       "      <td>Star Wars: The Last Jedi</td>\n",
       "      <td>$1,332,539,889</td>\n",
       "      <td>2017</td>\n",
       "    </tr>\n",
       "    <tr>\n",
       "      <th>12</th>\n",
       "      <td>Jurassic World: Fallen Kingdom</td>\n",
       "      <td>$1,300,569,140</td>\n",
       "      <td>2018</td>\n",
       "    </tr>\n",
       "    <tr>\n",
       "      <th>13</th>\n",
       "      <td>Frozen (2013 film)</td>\n",
       "      <td>$1,290,000,000</td>\n",
       "      <td>2013</td>\n",
       "    </tr>\n",
       "    <tr>\n",
       "      <th>14</th>\n",
       "      <td>Beauty and the Beast (2017 film)</td>\n",
       "      <td>$1,263,521,126</td>\n",
       "      <td>2017</td>\n",
       "    </tr>\n",
       "    <tr>\n",
       "      <th>15</th>\n",
       "      <td>The Fate of the Furious</td>\n",
       "      <td>$1,238,764,765</td>\n",
       "      <td>2017</td>\n",
       "    </tr>\n",
       "    <tr>\n",
       "      <th>16</th>\n",
       "      <td>Iron Man 3</td>\n",
       "      <td>$1,214,811,252</td>\n",
       "      <td>2013</td>\n",
       "    </tr>\n",
       "    <tr>\n",
       "      <th>17</th>\n",
       "      <td>Incredibles 2</td>\n",
       "      <td>$1,164,826,913</td>\n",
       "      <td>2018</td>\n",
       "    </tr>\n",
       "    <tr>\n",
       "      <th>18</th>\n",
       "      <td>Minions (film)</td>\n",
       "      <td>$1,159,398,397</td>\n",
       "      <td>2015</td>\n",
       "    </tr>\n",
       "    <tr>\n",
       "      <th>19</th>\n",
       "      <td>Captain America: Civil War</td>\n",
       "      <td>$1,153,304,495</td>\n",
       "      <td>2016</td>\n",
       "    </tr>\n",
       "    <tr>\n",
       "      <th>20</th>\n",
       "      <td>Transformers: Dark of the Moon</td>\n",
       "      <td>$1,123,794,079</td>\n",
       "      <td>2011</td>\n",
       "    </tr>\n",
       "    <tr>\n",
       "      <th>21</th>\n",
       "      <td>The Lord of the Rings: The Return of the King</td>\n",
       "      <td>$1,120,237,002</td>\n",
       "      <td>2003</td>\n",
       "    </tr>\n",
       "    <tr>\n",
       "      <th>22</th>\n",
       "      <td>Skyfall</td>\n",
       "      <td>$1,108,561,013</td>\n",
       "      <td>2012</td>\n",
       "    </tr>\n",
       "    <tr>\n",
       "      <th>23</th>\n",
       "      <td>Transformers: Age of Extinction</td>\n",
       "      <td>$1,104,054,072</td>\n",
       "      <td>2014</td>\n",
       "    </tr>\n",
       "    <tr>\n",
       "      <th>24</th>\n",
       "      <td>The Dark Knight Rises</td>\n",
       "      <td>$1,084,939,099</td>\n",
       "      <td>2012</td>\n",
       "    </tr>\n",
       "    <tr>\n",
       "      <th>25</th>\n",
       "      <td>Toy Story 3</td>\n",
       "      <td>$1,066,969,703</td>\n",
       "      <td>2010</td>\n",
       "    </tr>\n",
       "    <tr>\n",
       "      <th>26</th>\n",
       "      <td>Pirates of the Caribbean: Dead Man's Chest</td>\n",
       "      <td>$1,066,179,725</td>\n",
       "      <td>2006</td>\n",
       "    </tr>\n",
       "    <tr>\n",
       "      <th>27</th>\n",
       "      <td>Rogue One</td>\n",
       "      <td>$1,056,057,273</td>\n",
       "      <td>2016</td>\n",
       "    </tr>\n",
       "    <tr>\n",
       "      <th>28</th>\n",
       "      <td>Pirates of the Caribbean: On Stranger Tides</td>\n",
       "      <td>$1,045,713,802</td>\n",
       "      <td>2011</td>\n",
       "    </tr>\n",
       "    <tr>\n",
       "      <th>29</th>\n",
       "      <td>Despicable Me 3</td>\n",
       "      <td>$1,034,799,409</td>\n",
       "      <td>2017</td>\n",
       "    </tr>\n",
       "    <tr>\n",
       "      <th>30</th>\n",
       "      <td>Jurassic Park (film)</td>\n",
       "      <td>$1,029,939,903</td>\n",
       "      <td>1993</td>\n",
       "    </tr>\n",
       "    <tr>\n",
       "      <th>31</th>\n",
       "      <td>Finding Dory</td>\n",
       "      <td>$1,028,570,889</td>\n",
       "      <td>2016</td>\n",
       "    </tr>\n",
       "    <tr>\n",
       "      <th>32</th>\n",
       "      <td>Star Wars: Episode I – The Phantom Menace</td>\n",
       "      <td>$1,027,044,677</td>\n",
       "      <td>1999</td>\n",
       "    </tr>\n",
       "    <tr>\n",
       "      <th>33</th>\n",
       "      <td>Alice in Wonderland (2010 film)</td>\n",
       "      <td>$1,025,467,110</td>\n",
       "      <td>2010</td>\n",
       "    </tr>\n",
       "    <tr>\n",
       "      <th>34</th>\n",
       "      <td>Zootopia</td>\n",
       "      <td>$1,023,784,195</td>\n",
       "      <td>2016</td>\n",
       "    </tr>\n",
       "    <tr>\n",
       "      <th>35</th>\n",
       "      <td>The Hobbit: An Unexpected Journey</td>\n",
       "      <td>$1,021,103,568</td>\n",
       "      <td>2012</td>\n",
       "    </tr>\n",
       "    <tr>\n",
       "      <th>36</th>\n",
       "      <td>The Dark Knight (film)</td>\n",
       "      <td>$1,004,558,444</td>\n",
       "      <td>2008</td>\n",
       "    </tr>\n",
       "    <tr>\n",
       "      <th>37</th>\n",
       "      <td>Harry Potter and the Philosopher's Stone (film)</td>\n",
       "      <td>$974,755,371</td>\n",
       "      <td>2001</td>\n",
       "    </tr>\n",
       "    <tr>\n",
       "      <th>38</th>\n",
       "      <td>Despicable Me 2</td>\n",
       "      <td>$970,761,885</td>\n",
       "      <td>2013</td>\n",
       "    </tr>\n",
       "    <tr>\n",
       "      <th>39</th>\n",
       "      <td>The Lion King</td>\n",
       "      <td>$968,483,777</td>\n",
       "      <td>1994</td>\n",
       "    </tr>\n",
       "    <tr>\n",
       "      <th>40</th>\n",
       "      <td>The Jungle Book (2016 film)</td>\n",
       "      <td>$966,550,600</td>\n",
       "      <td>2016</td>\n",
       "    </tr>\n",
       "    <tr>\n",
       "      <th>41</th>\n",
       "      <td>Pirates of the Caribbean: At World's End</td>\n",
       "      <td>$963,420,425</td>\n",
       "      <td>2007</td>\n",
       "    </tr>\n",
       "    <tr>\n",
       "      <th>42</th>\n",
       "      <td>Jumanji: Welcome to the Jungle</td>\n",
       "      <td>$962,261,836</td>\n",
       "      <td>2017</td>\n",
       "    </tr>\n",
       "    <tr>\n",
       "      <th>43</th>\n",
       "      <td>Harry Potter and the Deathly Hallows – Part 1</td>\n",
       "      <td>$960,283,305</td>\n",
       "      <td>2010</td>\n",
       "    </tr>\n",
       "    <tr>\n",
       "      <th>44</th>\n",
       "      <td>The Hobbit: The Desolation of Smaug</td>\n",
       "      <td>$958,366,855</td>\n",
       "      <td>2013</td>\n",
       "    </tr>\n",
       "    <tr>\n",
       "      <th>45</th>\n",
       "      <td>The Hobbit: The Battle of the Five Armies</td>\n",
       "      <td>$956,019,788</td>\n",
       "      <td>2014</td>\n",
       "    </tr>\n",
       "    <tr>\n",
       "      <th>46</th>\n",
       "      <td>Finding Nemo</td>\n",
       "      <td>$940,335,536</td>\n",
       "      <td>2003</td>\n",
       "    </tr>\n",
       "    <tr>\n",
       "      <th>47</th>\n",
       "      <td>Harry Potter and the Order of the Phoenix (film)</td>\n",
       "      <td>$939,885,929</td>\n",
       "      <td>2007</td>\n",
       "    </tr>\n",
       "    <tr>\n",
       "      <th>48</th>\n",
       "      <td>Harry Potter and the Half-Blood Prince (film)</td>\n",
       "      <td>$934,416,487</td>\n",
       "      <td>2009</td>\n",
       "    </tr>\n",
       "    <tr>\n",
       "      <th>49</th>\n",
       "      <td>The Lord of the Rings: The Two Towers</td>\n",
       "      <td>$926,349,708</td>\n",
       "      <td>2002</td>\n",
       "    </tr>\n",
       "    <tr>\n",
       "      <th>50</th>\n",
       "      <td>Shrek 2</td>\n",
       "      <td>$919,838,758</td>\n",
       "      <td>2004</td>\n",
       "    </tr>\n",
       "  </tbody>\n",
       "</table>\n",
       "</div>"
      ],
      "text/plain": [
       "Rank                                            Titles        Grossing  Year\n",
       "1                                   Avatar (2009 film)  $2,787,965,087  2009\n",
       "2                                  Titanic (1997 film)  $2,187,463,944  1997\n",
       "3                         Star Wars: The Force Awakens  $2,068,223,624  2015\n",
       "4                               Avengers: Infinity War  $2,046,239,637  2018\n",
       "5                                       Jurassic World  $1,671,713,208  2015\n",
       "6                             The Avengers (2012 film)  $1,518,812,988  2012\n",
       "7                                            Furious 7  $1,516,045,911  2015\n",
       "8                              Avengers: Age of Ultron  $1,405,403,694  2015\n",
       "9                                 Black Panther (film)  $1,346,844,034  2018\n",
       "10       Harry Potter and the Deathly Hallows – Part 2  $1,341,511,219  2011\n",
       "11                            Star Wars: The Last Jedi  $1,332,539,889  2017\n",
       "12                      Jurassic World: Fallen Kingdom  $1,300,569,140  2018\n",
       "13                                  Frozen (2013 film)  $1,290,000,000  2013\n",
       "14                    Beauty and the Beast (2017 film)  $1,263,521,126  2017\n",
       "15                             The Fate of the Furious  $1,238,764,765  2017\n",
       "16                                          Iron Man 3  $1,214,811,252  2013\n",
       "17                                       Incredibles 2  $1,164,826,913  2018\n",
       "18                                      Minions (film)  $1,159,398,397  2015\n",
       "19                          Captain America: Civil War  $1,153,304,495  2016\n",
       "20                      Transformers: Dark of the Moon  $1,123,794,079  2011\n",
       "21       The Lord of the Rings: The Return of the King  $1,120,237,002  2003\n",
       "22                                             Skyfall  $1,108,561,013  2012\n",
       "23                     Transformers: Age of Extinction  $1,104,054,072  2014\n",
       "24                               The Dark Knight Rises  $1,084,939,099  2012\n",
       "25                                         Toy Story 3  $1,066,969,703  2010\n",
       "26          Pirates of the Caribbean: Dead Man's Chest  $1,066,179,725  2006\n",
       "27                                           Rogue One  $1,056,057,273  2016\n",
       "28         Pirates of the Caribbean: On Stranger Tides  $1,045,713,802  2011\n",
       "29                                     Despicable Me 3  $1,034,799,409  2017\n",
       "30                                Jurassic Park (film)  $1,029,939,903  1993\n",
       "31                                        Finding Dory  $1,028,570,889  2016\n",
       "32           Star Wars: Episode I – The Phantom Menace  $1,027,044,677  1999\n",
       "33                     Alice in Wonderland (2010 film)  $1,025,467,110  2010\n",
       "34                                            Zootopia  $1,023,784,195  2016\n",
       "35                   The Hobbit: An Unexpected Journey  $1,021,103,568  2012\n",
       "36                              The Dark Knight (film)  $1,004,558,444  2008\n",
       "37     Harry Potter and the Philosopher's Stone (film)    $974,755,371  2001\n",
       "38                                     Despicable Me 2    $970,761,885  2013\n",
       "39                                       The Lion King    $968,483,777  1994\n",
       "40                         The Jungle Book (2016 film)    $966,550,600  2016\n",
       "41            Pirates of the Caribbean: At World's End    $963,420,425  2007\n",
       "42                      Jumanji: Welcome to the Jungle    $962,261,836  2017\n",
       "43       Harry Potter and the Deathly Hallows – Part 1    $960,283,305  2010\n",
       "44                 The Hobbit: The Desolation of Smaug    $958,366,855  2013\n",
       "45           The Hobbit: The Battle of the Five Armies    $956,019,788  2014\n",
       "46                                        Finding Nemo    $940,335,536  2003\n",
       "47    Harry Potter and the Order of the Phoenix (film)    $939,885,929  2007\n",
       "48       Harry Potter and the Half-Blood Prince (film)    $934,416,487  2009\n",
       "49               The Lord of the Rings: The Two Towers    $926,349,708  2002\n",
       "50                                             Shrek 2    $919,838,758  2004"
      ]
     },
     "execution_count": 10,
     "metadata": {},
     "output_type": "execute_result"
    }
   ],
   "source": [
    "import pandas as pd              # import the pandas library                   \n",
    "df = pd.DataFrame()              # create the dataframe\n",
    "df['Titles'] = titles            # append the lists (title, box and year) to the dataframe\n",
    "df['Grossing'] = box\n",
    "df['Year'] = year\n",
    "df.index += 1                    # offset the index to start at position 1\n",
    "df.columns.name = 'Rank'         # rename the index column to 'Rank'\n",
    "df                               # Print the table"
   ]
  },
  {
   "cell_type": "markdown",
   "metadata": {},
   "source": [
    "Despite the dataframe being well-formatted it won't give us any useful result as the contents of the columns are object and so they are *non-numeric*. Python will complain of an *Empty Dataframe with non-numeric values*.\n",
    "The function *dtypes* returns the type of every column"
   ]
  },
  {
   "cell_type": "code",
   "execution_count": 9,
   "metadata": {},
   "outputs": [
    {
     "data": {
      "text/plain": [
       "Rank\n",
       "Titles      object\n",
       "Grossing    object\n",
       "Year        object\n",
       "dtype: object"
      ]
     },
     "execution_count": 9,
     "metadata": {},
     "output_type": "execute_result"
    }
   ],
   "source": [
    "df.dtypes    # Grossing need to be converted to numeric. Year could also be convert to a date but for the purpose of this analysis, it is not necessary.\n",
    "\n",
    "#df['Year'] = pd.to_datetime(df['Year'],format = '%Y')     # this are the commands to convert the year column in a datetime\n",
    "#df"
   ]
  },
  {
   "cell_type": "markdown",
   "metadata": {},
   "source": [
    "# Plotting"
   ]
  },
  {
   "cell_type": "markdown",
   "metadata": {},
   "source": [
    "In the following line The commas from the Grossing column have been removed and a new column named gross that replaces the *grossing* column has been created. The rows of the new column have been converted to numeric values."
   ]
  },
  {
   "cell_type": "code",
   "execution_count": 11,
   "metadata": {},
   "outputs": [
    {
     "name": "stdout",
     "output_type": "stream",
     "text": [
      "['2787965087', '2187463944', '2068223624', '2046143153', '1671713208', '1518812988', '1516045911', '1405403694', '1346844034', '1341511219', '1332539889', '1295525695', '1290000000', '1263521126', '1238764765', '1214811252', '1159398397', '1153304495', '1140966966', '1123794079', '1120237002', '1108561013', '1104054072', '1084939099', '1066969703', '1066179725', '1056057273', '1045713802', '1034799409', '1029939903', '1028570889', '1027044677', '1025467110', '1023784195', '1021103568', '1004558444', '974755371', '970761885', '968483777', '966550600', '963420425', '962261836', '960283305', '958366855', '956019788', '940335536', '939885929', '934416487', '926349708', '919838758']\n"
     ]
    }
   ],
   "source": [
    "gross = list()                       # create a new list \n",
    "for g in box:                        # loop the element in the original list box\n",
    "    g = g.replace(',','')            # replace the commas with nothing\n",
    "    g = g.replace('$','')\n",
    "    gross.append(g)                  # append them to the list\n",
    "print(gross)\n",
    "df['Grossing'] = gross               # include the list in the dataframe"
   ]
  },
  {
   "cell_type": "code",
   "execution_count": 12,
   "metadata": {},
   "outputs": [],
   "source": [
    "#df['Grossing'] = df['Grossing'].astype(int)\n",
    "df['Grossing'] = pd.to_numeric(df['Grossing'])     # convert the column grossing to a number"
   ]
  },
  {
   "cell_type": "markdown",
   "metadata": {},
   "source": [
    "Calling *dtypes* again will return Grossing to be an int64 and allows to plot the data and perform some basic statistics."
   ]
  },
  {
   "cell_type": "code",
   "execution_count": 13,
   "metadata": {},
   "outputs": [
    {
     "data": {
      "text/plain": [
       "Rank\n",
       "Titles      object\n",
       "Grossing     int64\n",
       "Year        object\n",
       "dtype: object"
      ]
     },
     "execution_count": 13,
     "metadata": {},
     "output_type": "execute_result"
    }
   ],
   "source": [
    "df.dtypes"
   ]
  },
  {
   "cell_type": "markdown",
   "metadata": {},
   "source": [
    "The function *describe* shows some statistics of the dataframe."
   ]
  },
  {
   "cell_type": "code",
   "execution_count": 14,
   "metadata": {},
   "outputs": [
    {
     "data": {
      "text/html": [
       "<div>\n",
       "<style scoped>\n",
       "    .dataframe tbody tr th:only-of-type {\n",
       "        vertical-align: middle;\n",
       "    }\n",
       "\n",
       "    .dataframe tbody tr th {\n",
       "        vertical-align: top;\n",
       "    }\n",
       "\n",
       "    .dataframe thead th {\n",
       "        text-align: right;\n",
       "    }\n",
       "</style>\n",
       "<table border=\"1\" class=\"dataframe\">\n",
       "  <thead>\n",
       "    <tr style=\"text-align: right;\">\n",
       "      <th>Rank</th>\n",
       "      <th>Grossing</th>\n",
       "    </tr>\n",
       "  </thead>\n",
       "  <tbody>\n",
       "    <tr>\n",
       "      <th>count</th>\n",
       "      <td>5.000000e+01</td>\n",
       "    </tr>\n",
       "    <tr>\n",
       "      <th>mean</th>\n",
       "      <td>1.205849e+09</td>\n",
       "    </tr>\n",
       "    <tr>\n",
       "      <th>std</th>\n",
       "      <td>3.711273e+08</td>\n",
       "    </tr>\n",
       "    <tr>\n",
       "      <th>min</th>\n",
       "      <td>9.198388e+08</td>\n",
       "    </tr>\n",
       "    <tr>\n",
       "      <th>25%</th>\n",
       "      <td>9.717603e+08</td>\n",
       "    </tr>\n",
       "    <tr>\n",
       "      <th>50%</th>\n",
       "      <td>1.066575e+09</td>\n",
       "    </tr>\n",
       "    <tr>\n",
       "      <th>75%</th>\n",
       "      <td>1.283380e+09</td>\n",
       "    </tr>\n",
       "    <tr>\n",
       "      <th>max</th>\n",
       "      <td>2.787965e+09</td>\n",
       "    </tr>\n",
       "  </tbody>\n",
       "</table>\n",
       "</div>"
      ],
      "text/plain": [
       "Rank       Grossing\n",
       "count  5.000000e+01\n",
       "mean   1.205849e+09\n",
       "std    3.711273e+08\n",
       "min    9.198388e+08\n",
       "25%    9.717603e+08\n",
       "50%    1.066575e+09\n",
       "75%    1.283380e+09\n",
       "max    2.787965e+09"
      ]
     },
     "execution_count": 14,
     "metadata": {},
     "output_type": "execute_result"
    }
   ],
   "source": [
    "df.describe()"
   ]
  },
  {
   "cell_type": "code",
   "execution_count": 15,
   "metadata": {},
   "outputs": [
    {
     "data": {
      "text/plain": [
       "60292463670"
      ]
     },
     "execution_count": 15,
     "metadata": {},
     "output_type": "execute_result"
    }
   ],
   "source": [
    "df['Grossing'].sum()         # sum the values of the column Grossing"
   ]
  },
  {
   "cell_type": "markdown",
   "metadata": {},
   "source": [
    "The mean of these 50 movies is: **\\$1,205,849,000** while the sum of all the box offices results is **\\$60,292,463,670**."
   ]
  },
  {
   "cell_type": "markdown",
   "metadata": {},
   "source": [
    "The final step is to plot the data extracted with the plot function and some functions of the *matplotlib* library."
   ]
  },
  {
   "cell_type": "code",
   "execution_count": 16,
   "metadata": {},
   "outputs": [],
   "source": [
    "import matplotlib.pyplot as plt                                                                                      # import library"
   ]
  },
  {
   "cell_type": "code",
   "execution_count": 17,
   "metadata": {},
   "outputs": [
    {
     "data": {
      "image/png": "[encoded data removed]",
      "text/plain": [
       "<Figure size 1800x1080 with 1 Axes>"
      ]
     },
     "metadata": {},
     "output_type": "display_data"
    }
   ],
   "source": [
    "ax = df.plot(x=\"Titles\", y=\"Grossing\", kind='barh', figsize=(25, 15), width=0.85, legend = None, color = 'grey')     # plot Title and Grossing in a horizontal bar plot and set the figure parameters. With the horizontal barplot the axis are inverted\n",
    "ax.set_xlabel(\"Box Office\", labelpad=20, weight='bold', size=12)                                                     # choose the x label \n",
    "ax.set_ylabel(\"Films\", labelpad=20, weight='bold', size=12)                                                          # choose the y label\n",
    "ax.set_title(\"50 Highest Grossing Films of All Times\")                                                               # choose the title  \n",
    "plt.gca().invert_yaxis()                                                                                             # invert the yaxis, using matplotlib, to display the highest grossing film at the top. \n",
    "#ax.set_xticklabels(ticks)                                                                                           # this command changes ticks (scale) of the x axis"
   ]
  },
  {
   "cell_type": "markdown",
   "metadata": {},
   "source": [
    "While the other movies have roughly had similar box office results, it is different for the first three movies, with Avatar that creates a big gap with the others."
   ]
  },
  {
   "cell_type": "markdown",
   "metadata": {},
   "source": [
    "The number on the right of the x axis(*1e9*) is a standard scientific notion and indicates the scale of the x axis (which is the y axis but the plot is an horizontal plot). A value of 2.5 in the axis, then, corresponds to a $2.5 * 1e9 = 2.5e9 \\ \\ -> \\ 2.5*10^9 = \\$2,500,000,000$."
   ]
  },
  {
   "cell_type": "markdown",
   "metadata": {},
   "source": [
    "The analysis continues by showing how many films there are in each year. This has been done with the function *value_counts* of the dataframe library. The 2017, 2016, 2015 have the highest grossing film combined."
   ]
  },
  {
   "cell_type": "code",
   "execution_count": 18,
   "metadata": {},
   "outputs": [
    {
     "data": {
      "text/plain": [
       "2015    5\n",
       "2016    5\n",
       "2017    5\n",
       "2012    4\n",
       "2013    4\n",
       "2018    4\n",
       "2011    3\n",
       "2010    3\n",
       "2003    2\n",
       "2007    2\n",
       "2009    2\n",
       "2014    2\n",
       "2002    1\n",
       "2008    1\n",
       "1993    1\n",
       "1994    1\n",
       "1997    1\n",
       "1999    1\n",
       "2001    1\n",
       "2006    1\n",
       "2004    1\n",
       "Name: Year, dtype: int64"
      ]
     },
     "execution_count": 18,
     "metadata": {},
     "output_type": "execute_result"
    }
   ],
   "source": [
    "#df['Year'].count()                   # counts the year column\n",
    "df['Year'].value_counts()             # counts the values for each year    "
   ]
  },
  {
   "cell_type": "markdown",
   "metadata": {},
   "source": [
    "The next step will create a new dataframe where the years are grouped and the Grossing are aggregated. The latter has been done with the function *.add* that creates a sort of dictionary where the grossing are summed by year."
   ]
  },
  {
   "cell_type": "code",
   "execution_count": null,
   "metadata": {},
   "outputs": [],
   "source": [
    "#df.groupby(['Year']).groups.keys()                                          # groups the years\n",
    "df_grouped = df.groupby('Year', as_index=False).agg({\"Grossing\": \"sum\"})     # group the year and sum their box office results\n",
    "df_grouped.index += 1                                                        # offset the index\n",
    "df_grouped                                                                   # shows the dataframe "
   ]
  },
  {
   "cell_type": "markdown",
   "metadata": {},
   "source": [
    "Plot the second figure where the Film Box offices are grouped by year. The same structure as the plot before has been used. "
   ]
  },
  {
   "cell_type": "code",
   "execution_count": 20,
   "metadata": {},
   "outputs": [
    {
     "data": {
      "text/plain": [
       "Text(0.5,1,'Film Box Office by Year')"
      ]
     },
     "execution_count": 20,
     "metadata": {},
     "output_type": "execute_result"
    },
    {
     "data": {
      "image/png": "[encoded data removed]",
      "text/plain": [
       "<Figure size 1440x720 with 1 Axes>"
      ]
     },
     "metadata": {},
     "output_type": "display_data"
    }
   ],
   "source": [
    "ax2 = df_grouped.plot(x=\"Year\", y=\"Grossing\", kind='bar', figsize=(20, 10), width=0.85, legend = None, color = 'grey') \n",
    "ax2.set_xlabel(\"Years\", labelpad=20, weight='bold', size=12)\n",
    "ax2.set_ylabel(\"Box Office\", labelpad=20, weight='bold', size=12)\n",
    "ax2.set_title(\"Film Box Office by Year\")"
   ]
  },
  {
   "cell_type": "markdown",
   "metadata": {},
   "source": [
    "In the plot above is possible to see that the movies have increased their box office results expecially in the last years with the only exeption of 2014 but the highest year has been 2015 with profits of **\\$7,820,784,834**."
   ]
  },
  {
   "cell_type": "markdown",
   "metadata": {},
   "source": [
    "# Second Part\n",
    "**Dictionaries**"
   ]
  },
  {
   "cell_type": "markdown",
   "metadata": {},
   "source": [
    "In this part, an useful function that serves to count the most common word in a document has been implemented."
   ]
  },
  {
   "cell_type": "markdown",
   "metadata": {},
   "source": [
    "Import the URL using the same steps used at the beginning of the project and parsing it with beautiful soup."
   ]
  },
  {
   "cell_type": "code",
   "execution_count": 21,
   "metadata": {},
   "outputs": [],
   "source": [
    "from requests import get\n",
    "url = 'https://en.wikipedia.org/wiki/List_of_highest-grossing_films'\n",
    "response = get(url)\n",
    "from bs4 import BeautifulSoup\n",
    "html_soup = BeautifulSoup(response.text, 'html.parser')"
   ]
  },
  {
   "cell_type": "markdown",
   "metadata": {},
   "source": [
    "In this case the nor *anchor points* or the *td* are needed to extract the table but it is necessary to extract the paragraphs from the HTML. They are pulled out finding the *p* in the file. This returns the paragraphs in an HTML format."
   ]
  },
  {
   "cell_type": "code",
   "execution_count": 22,
   "metadata": {},
   "outputs": [],
   "source": [
    "paragraphs = html_soup.findAll('p')"
   ]
  },
  {
   "cell_type": "markdown",
   "metadata": {},
   "source": [
    "Next step is to loop all the paragraphs and append them to an empty list. This will return a list with the plain text of the paragraphs in the HTML."
   ]
  },
  {
   "cell_type": "code",
   "execution_count": 23,
   "metadata": {},
   "outputs": [],
   "source": [
    "text = list()                 # create an empty list\n",
    "for par in paragraphs:        # loop every item in the paragraph\n",
    "    text.append(par.text)     # append each paragraph to the empty list\n",
    "#print(text)"
   ]
  },
  {
   "cell_type": "markdown",
   "metadata": {},
   "source": [
    "In the next steps, the text has been split into words that are, later, included in a dictionary and then counted according to how many times they appear in the text. Some data cleaning has been performed to avoid errors in calculations. "
   ]
  },
  {
   "cell_type": "code",
   "execution_count": 24,
   "metadata": {},
   "outputs": [
    {
     "name": "stdout",
     "output_type": "stream",
     "text": [
      "Number of Words in the Paragraph:  5375\n",
      "Number of Words in the Dictionary:  5375\n",
      "The most used word is \" the \" repeated 409 times\n"
     ]
    }
   ],
   "source": [
    "counts = dict()                                                         # create an empty dictionary\n",
    "single_words = list()                                                   # create an empty list used to check if the operations in the dictionary are working correctly\n",
    "for w in text:                                                          # loops the text\n",
    "    w = w.split()                                                       # splits the text in words\n",
    "    #print(w)                      \n",
    "    for words in w:                                                     # loop every word   \n",
    "        words = words.lower()                                           # convert every word into lower case to have a correct insensitive case count\n",
    "        #print(words)\n",
    "        single_words.append(words)                                      # append it to a list to check how many words there are in total and check if the dictionary is counting correctly\n",
    "        counts[words] = counts.get(words,0)+1                           # use the get function to use the words as the key while the value is calculated accordin to each time each number appears (the get function increments the value by one)\n",
    "#print(counts)\n",
    "print(\"Number of Words in the Paragraph: \",len(single_words))           # print the number of words from the list             \n",
    "print(\"Number of Words in the Dictionary: \",sum(counts.values()))       # print the number of words from the dictionary (the number is the same, this means that everything is working fine)\n",
    "\n",
    "bigcount = None                                                         # set the count of the values to None\n",
    "bigword = None                                                          # set the count of keys to None\n",
    "for k,v in counts.items():                                              # loops the keys and the values in a dictionary\n",
    "    if bigcount is None or v > bigcount:                                # if bigcount is None or if the looped value is greater than the bigcount \n",
    "        bigcount = v                                                    # then that value becomes the new most common value\n",
    "        bigword = k                                                     # and the new most common word \n",
    "print('The most used word is','\"',bigword,'\"','repeated',bigcount, 'times')"
   ]
  },
  {
   "cell_type": "markdown",
   "metadata": {},
   "source": [
    "**Stop Words**  \n",
    "The most common word is *\"the\"* while there are 5375 words in the text. Creating a dataframe with all the most common words (can be found on the bottom of this project) will only returns a table with article, prepositions and similar, which are not relevant for the analysis. This problem has been overtaken with the removal of the so-called *stop-words*. The \"for loop\" will then ignore all the stop-words and return a data frame with only the relevant words."
   ]
  },
  {
   "cell_type": "code",
   "execution_count": 25,
   "metadata": {},
   "outputs": [],
   "source": [
    "import nltk                                             # import the nltk library\n",
    "from nltk.corpus import stopwords                       # import stopwords"
   ]
  },
  {
   "cell_type": "code",
   "execution_count": 39,
   "metadata": {},
   "outputs": [],
   "source": [
    "stop_words = set(stopwords.words('english'))            # create a list with all the stopwords                           \n",
    "filtered_count = dict()\n",
    "for i in single_words:                                                 \n",
    "    if i in stop_words: continue                        # loop every word and exclude the stopwords   \n",
    "    filtered_count[i] = filtered_count.get(i,0)+1       # create a dictionary with all the filtered words      \n",
    "#print(filtered_count)\n",
    "del filtered_count['films']                             # Among the most common words, film appears with its plural. The function 'del' has been used to eliminate the key and its value has been update with the merge of values of film and films.\n",
    "filtered_count['film'] = 32+60\n",
    "del filtered_count['gross']                             \n",
    "filtered_count['grosses'] = 34+11"
   ]
  },
  {
   "cell_type": "markdown",
   "metadata": {},
   "source": [
    "The procedure described above could have been done automatically using the library *stemming*; this however leads to a non-proper cut of words. A manual approach has been taken and after having analysed the other possible stems in the list of words, no further relevant changes can be observed ."
   ]
  },
  {
   "cell_type": "code",
   "execution_count": 44,
   "metadata": {},
   "outputs": [
    {
     "data": {
      "text/html": [
       "<div>\n",
       "<style scoped>\n",
       "    .dataframe tbody tr th:only-of-type {\n",
       "        vertical-align: middle;\n",
       "    }\n",
       "\n",
       "    .dataframe tbody tr th {\n",
       "        vertical-align: top;\n",
       "    }\n",
       "\n",
       "    .dataframe thead th {\n",
       "        text-align: right;\n",
       "    }\n",
       "</style>\n",
       "<table border=\"1\" class=\"dataframe\">\n",
       "  <thead>\n",
       "    <tr style=\"text-align: right;\">\n",
       "      <th></th>\n",
       "      <th>Words</th>\n",
       "      <th>Count</th>\n",
       "    </tr>\n",
       "  </thead>\n",
       "  <tbody>\n",
       "    <tr>\n",
       "      <th>1</th>\n",
       "      <td>film</td>\n",
       "      <td>92</td>\n",
       "    </tr>\n",
       "    <tr>\n",
       "      <th>2</th>\n",
       "      <td>grosses</td>\n",
       "      <td>45</td>\n",
       "    </tr>\n",
       "    <tr>\n",
       "      <th>3</th>\n",
       "      <td>million</td>\n",
       "      <td>36</td>\n",
       "    </tr>\n",
       "    <tr>\n",
       "      <th>4</th>\n",
       "      <td>earnings</td>\n",
       "      <td>25</td>\n",
       "    </tr>\n",
       "    <tr>\n",
       "      <th>5</th>\n",
       "      <td>billion</td>\n",
       "      <td>24</td>\n",
       "    </tr>\n",
       "    <tr>\n",
       "      <th>6</th>\n",
       "      <td>also</td>\n",
       "      <td>23</td>\n",
       "    </tr>\n",
       "    <tr>\n",
       "      <th>7</th>\n",
       "      <td>earned</td>\n",
       "      <td>19</td>\n",
       "    </tr>\n",
       "    <tr>\n",
       "      <th>8</th>\n",
       "      <td>total</td>\n",
       "      <td>18</td>\n",
       "    </tr>\n",
       "    <tr>\n",
       "      <th>9</th>\n",
       "      <td>worldwide</td>\n",
       "      <td>17</td>\n",
       "    </tr>\n",
       "    <tr>\n",
       "      <th>10</th>\n",
       "      <td>north</td>\n",
       "      <td>17</td>\n",
       "    </tr>\n",
       "    <tr>\n",
       "      <th>11</th>\n",
       "      <td>gone</td>\n",
       "      <td>17</td>\n",
       "    </tr>\n",
       "    <tr>\n",
       "      <th>12</th>\n",
       "      <td>highest-grossing</td>\n",
       "      <td>16</td>\n",
       "    </tr>\n",
       "    <tr>\n",
       "      <th>13</th>\n",
       "      <td>figure</td>\n",
       "      <td>16</td>\n",
       "    </tr>\n",
       "    <tr>\n",
       "      <th>14</th>\n",
       "      <td>box</td>\n",
       "      <td>16</td>\n",
       "    </tr>\n",
       "    <tr>\n",
       "      <th>15</th>\n",
       "      <td>would</td>\n",
       "      <td>15</td>\n",
       "    </tr>\n",
       "    <tr>\n",
       "      <th>16</th>\n",
       "      <td>star</td>\n",
       "      <td>14</td>\n",
       "    </tr>\n",
       "    <tr>\n",
       "      <th>17</th>\n",
       "      <td>office</td>\n",
       "      <td>14</td>\n",
       "    </tr>\n",
       "    <tr>\n",
       "      <th>18</th>\n",
       "      <td>figures</td>\n",
       "      <td>14</td>\n",
       "    </tr>\n",
       "    <tr>\n",
       "      <th>19</th>\n",
       "      <td>since</td>\n",
       "      <td>13</td>\n",
       "    </tr>\n",
       "    <tr>\n",
       "      <th>20</th>\n",
       "      <td>record</td>\n",
       "      <td>13</td>\n",
       "    </tr>\n",
       "    <tr>\n",
       "      <th>21</th>\n",
       "      <td>theatrical</td>\n",
       "      <td>12</td>\n",
       "    </tr>\n",
       "    <tr>\n",
       "      <th>22</th>\n",
       "      <td>chart</td>\n",
       "      <td>12</td>\n",
       "    </tr>\n",
       "    <tr>\n",
       "      <th>23</th>\n",
       "      <td>birth</td>\n",
       "      <td>12</td>\n",
       "    </tr>\n",
       "    <tr>\n",
       "      <th>24</th>\n",
       "      <td>adjusted</td>\n",
       "      <td>12</td>\n",
       "    </tr>\n",
       "    <tr>\n",
       "      <th>25</th>\n",
       "      <td>rental</td>\n",
       "      <td>11</td>\n",
       "    </tr>\n",
       "    <tr>\n",
       "      <th>26</th>\n",
       "      <td>one</td>\n",
       "      <td>11</td>\n",
       "    </tr>\n",
       "    <tr>\n",
       "      <th>27</th>\n",
       "      <td>american</td>\n",
       "      <td>11</td>\n",
       "    </tr>\n",
       "    <tr>\n",
       "      <th>28</th>\n",
       "      <td>wind</td>\n",
       "      <td>10</td>\n",
       "    </tr>\n",
       "    <tr>\n",
       "      <th>29</th>\n",
       "      <td>nation</td>\n",
       "      <td>10</td>\n",
       "    </tr>\n",
       "    <tr>\n",
       "      <th>30</th>\n",
       "      <td>much</td>\n",
       "      <td>10</td>\n",
       "    </tr>\n",
       "  </tbody>\n",
       "</table>\n",
       "</div>"
      ],
      "text/plain": [
       "               Words  Count\n",
       "1               film     92\n",
       "2            grosses     45\n",
       "3            million     36\n",
       "4           earnings     25\n",
       "5            billion     24\n",
       "6               also     23\n",
       "7             earned     19\n",
       "8              total     18\n",
       "9          worldwide     17\n",
       "10             north     17\n",
       "11              gone     17\n",
       "12  highest-grossing     16\n",
       "13            figure     16\n",
       "14               box     16\n",
       "15             would     15\n",
       "16              star     14\n",
       "17            office     14\n",
       "18           figures     14\n",
       "19             since     13\n",
       "20            record     13\n",
       "21        theatrical     12\n",
       "22             chart     12\n",
       "23             birth     12\n",
       "24          adjusted     12\n",
       "25            rental     11\n",
       "26               one     11\n",
       "27          american     11\n",
       "28              wind     10\n",
       "29            nation     10\n",
       "30              much     10"
      ]
     },
     "execution_count": 44,
     "metadata": {},
     "output_type": "execute_result"
    }
   ],
   "source": [
    "filtered_lst = (sorted([(v,k) for k,v in filtered_count.items()],reverse = True))    # sort items in filtered_count (dictionary) and put them in a list\n",
    "filtered_mainwords = pd.DataFrame()                                                  # create an empty dataframe\n",
    "filtered_words = list()                                                              # create an empty list for the keys\n",
    "filtered_word_count = list()                                                         # create an empty list for the values   \n",
    "for v,k in filtered_lst[:30]:                                                        # loop the first 30 value in lst (most common)\n",
    "    #print(k,v) \n",
    "    filtered_words.append(k)                                                         # append them to the empty lists                  \n",
    "    filtered_word_count.append(v)\n",
    "filtered_mainwords['Words'] = filtered_words                                         # insert those lists to a dataframe\n",
    "filtered_mainwords['Count'] = filtered_word_count\n",
    "filtered_mainwords.index += 1                                                        # offset index\n",
    "filtered_mainwords"
   ]
  },
  {
   "cell_type": "markdown",
   "metadata": {},
   "source": [
    "The final step of this analysis is to plot the most common words, free of the stop words and without uppercase letters that results in a wrong assessment."
   ]
  },
  {
   "cell_type": "code",
   "execution_count": 45,
   "metadata": {},
   "outputs": [
    {
     "data": {
      "image/png": "[encoded data removed]",
      "text/plain": [
       "<Figure size 1080x720 with 1 Axes>"
      ]
     },
     "metadata": {},
     "output_type": "display_data"
    }
   ],
   "source": [
    "ax = filtered_mainwords.plot(x=\"Words\", y=\"Count\", kind='barh', figsize=(15, 10), width=0.70, legend = None, color = 'green')\n",
    "ax.set_xlabel(\"Word Count\", labelpad=20, weight='bold', size=12)\n",
    "ax.set_ylabel(\"Words\", labelpad=20, weight='bold', size=12)\n",
    "ax.set_title(\"List of the ten most common words\")\n",
    "plt.gca().invert_yaxis()"
   ]
  },
  {
   "cell_type": "markdown",
   "metadata": {},
   "source": [
    "The most common word is films and if summed with the word film, it will reach a count of *92* words. Plurals could be eliminate with the use of the stemming library but this has not been done in this analysis."
   ]
  },
  {
   "cell_type": "markdown",
   "metadata": {},
   "source": [
    "**Extra Steps**  \n",
    "Just for the sake of representing, the one below is the dataframe of the values of the main words including stopwords"
   ]
  },
  {
   "cell_type": "code",
   "execution_count": 46,
   "metadata": {},
   "outputs": [
    {
     "data": {
      "text/html": [
       "<div>\n",
       "<style scoped>\n",
       "    .dataframe tbody tr th:only-of-type {\n",
       "        vertical-align: middle;\n",
       "    }\n",
       "\n",
       "    .dataframe tbody tr th {\n",
       "        vertical-align: top;\n",
       "    }\n",
       "\n",
       "    .dataframe thead th {\n",
       "        text-align: right;\n",
       "    }\n",
       "</style>\n",
       "<table border=\"1\" class=\"dataframe\">\n",
       "  <thead>\n",
       "    <tr style=\"text-align: right;\">\n",
       "      <th></th>\n",
       "      <th>Words</th>\n",
       "      <th>Count</th>\n",
       "    </tr>\n",
       "  </thead>\n",
       "  <tbody>\n",
       "    <tr>\n",
       "      <th>1</th>\n",
       "      <td>the</td>\n",
       "      <td>409</td>\n",
       "    </tr>\n",
       "    <tr>\n",
       "      <th>2</th>\n",
       "      <td>of</td>\n",
       "      <td>160</td>\n",
       "    </tr>\n",
       "    <tr>\n",
       "      <th>3</th>\n",
       "      <td>and</td>\n",
       "      <td>140</td>\n",
       "    </tr>\n",
       "    <tr>\n",
       "      <th>4</th>\n",
       "      <td>in</td>\n",
       "      <td>125</td>\n",
       "    </tr>\n",
       "    <tr>\n",
       "      <th>5</th>\n",
       "      <td>to</td>\n",
       "      <td>92</td>\n",
       "    </tr>\n",
       "    <tr>\n",
       "      <th>6</th>\n",
       "      <td>a</td>\n",
       "      <td>83</td>\n",
       "    </tr>\n",
       "    <tr>\n",
       "      <th>7</th>\n",
       "      <td>with</td>\n",
       "      <td>79</td>\n",
       "    </tr>\n",
       "    <tr>\n",
       "      <th>8</th>\n",
       "      <td>is</td>\n",
       "      <td>70</td>\n",
       "    </tr>\n",
       "    <tr>\n",
       "      <th>9</th>\n",
       "      <td>for</td>\n",
       "      <td>62</td>\n",
       "    </tr>\n",
       "    <tr>\n",
       "      <th>10</th>\n",
       "      <td>films</td>\n",
       "      <td>60</td>\n",
       "    </tr>\n",
       "  </tbody>\n",
       "</table>\n",
       "</div>"
      ],
      "text/plain": [
       "    Words  Count\n",
       "1     the    409\n",
       "2      of    160\n",
       "3     and    140\n",
       "4      in    125\n",
       "5      to     92\n",
       "6       a     83\n",
       "7    with     79\n",
       "8      is     70\n",
       "9     for     62\n",
       "10  films     60"
      ]
     },
     "execution_count": 46,
     "metadata": {},
     "output_type": "execute_result"
    }
   ],
   "source": [
    "lst = (sorted([(v,k) for k,v in counts.items()],reverse = True))    # sort items in count and put them in a list\n",
    "mainwords = pd.DataFrame()                                          # create an empty dictionary\n",
    "words = list()                                                      # create an empty list for the keys\n",
    "word_count = list()                                                 # create an empty list for the values   \n",
    "for v,k in lst[:10]:                                                # loop the first 10 value in lst (most common)\n",
    "    #print(k,v) \n",
    "    words.append(k)                                                 # append them to the empty lists                  \n",
    "    word_count.append(v)\n",
    "mainwords['Words'] = words                                          # insert those lists to a dataframe\n",
    "mainwords['Count'] = word_count\n",
    "mainwords.index += 1                                                # offset index\n",
    "mainwords"
   ]
  },
  {
   "cell_type": "markdown",
   "metadata": {},
   "source": [
    "This step stems the words to eliminate plurals, but it also eliminates the ending of words leaving their stem, thus, it has not been used for this analysis."
   ]
  },
  {
   "cell_type": "code",
   "execution_count": null,
   "metadata": {},
   "outputs": [],
   "source": [
    "from nltk.stem import PorterStemmer\n",
    "from nltk.tokenize import sent_tokenize, word_tokenize\n",
    "ps = PorterStemmer()\n",
    "for word in single_words:\n",
    "    print(ps.stem(word)) \n"
   ]
  },
  {
   "cell_type": "code",
   "execution_count": 2,
   "metadata": {},
   "outputs": [
    {
     "data": {
      "text/plain": [
       "<PorterStemmer>"
      ]
     },
     "execution_count": 2,
     "metadata": {},
     "output_type": "execute_result"
    }
   ],
   "source": []
  },
  {
   "cell_type": "code",
   "execution_count": null,
   "metadata": {},
   "outputs": [],
   "source": []
  }
 ],
 "metadata": {
  "kernelspec": {
   "display_name": "Python 3",
   "language": "python",
   "name": "python3"
  },
  "language_info": {
   "codemirror_mode": {
    "name": "ipython",
    "version": 3
   },
   "file_extension": ".py",
   "mimetype": "text/x-python",
   "name": "python",
   "nbconvert_exporter": "python",
   "pygments_lexer": "ipython3",
   "version": "3.6.5"
  }
 },
 "nbformat": 4,
 "nbformat_minor": 2
}
